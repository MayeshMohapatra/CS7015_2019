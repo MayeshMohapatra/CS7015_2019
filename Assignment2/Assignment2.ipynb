{
 "cells": [
  {
   "cell_type": "code",
   "execution_count": 1,
   "metadata": {},
   "outputs": [],
   "source": [
    "import numpy as np"
   ]
  },
  {
   "cell_type": "code",
   "execution_count": 4,
   "metadata": {},
   "outputs": [
    {
     "name": "stdout",
     "output_type": "stream",
     "text": [
      "[[ 0.5  1.5 -1.5]\n",
      " [-3.   5.  -3. ]\n",
      " [-4.5  4.5 -2.5]]\n"
     ]
    }
   ],
   "source": [
    "A = np.array([[-1, 0, 0],[0,2,0],[0,0,2]])\n",
    "B = np.array([[1, 1, 0],[2,1,1],[3,0,1]])\n",
    "print(np.dot(np.dot(B,A),np.linalg.inv(B)))"
   ]
  },
  {
   "cell_type": "code",
   "execution_count": 3,
   "metadata": {},
   "outputs": [
    {
     "name": "stdout",
     "output_type": "stream",
     "text": [
      "(array([[-0.70710678,  0.70710678,  0.        ],\n",
      "       [ 0.70710678,  0.70710678,  0.        ],\n",
      "       [-0.        , -0.        ,  1.        ]]), array([[-1.41421356,  0.70710678,  0.70710678],\n",
      "       [ 0.        ,  0.70710678,  3.53553391],\n",
      "       [ 0.        ,  0.        ,  1.        ]]))\n"
     ]
    }
   ],
   "source": [
    "# question 5b\n",
    "A = np.array([[1,0,2],[-1,1,3],[0,0,1]])\n",
    "print(np.linalg.qr(A))"
   ]
  },
  {
   "cell_type": "markdown",
   "metadata": {},
   "source": [
    "# Question 6"
   ]
  },
  {
   "cell_type": "code",
   "execution_count": 28,
   "metadata": {},
   "outputs": [],
   "source": [
    "A = np.array([[0.9, 0.04, 0.1],[0.06,0.95,0],[0.04,0.01,0.9]])"
   ]
  },
  {
   "cell_type": "code",
   "execution_count": 29,
   "metadata": {},
   "outputs": [],
   "source": [
    "a,b = np.linalg.eig(A)"
   ]
  },
  {
   "cell_type": "code",
   "execution_count": 30,
   "metadata": {},
   "outputs": [
    {
     "name": "stdout",
     "output_type": "stream",
     "text": [
      "[1.   0.83 0.92]\n"
     ]
    }
   ],
   "source": [
    "print(a)"
   ]
  },
  {
   "cell_type": "code",
   "execution_count": 31,
   "metadata": {},
   "outputs": [
    {
     "name": "stdout",
     "output_type": "stream",
     "text": [
      "[[-0.60741191 -0.81649658  0.40824829]\n",
      " [-0.7288943   0.40824829 -0.81649658]\n",
      " [-0.31585419  0.40824829  0.40824829]]\n"
     ]
    }
   ],
   "source": [
    "print(b)"
   ]
  },
  {
   "cell_type": "code",
   "execution_count": 24,
   "metadata": {},
   "outputs": [],
   "source": [
    "l = np.array([[a[0],0,0],[0,a[1],0],[0,0,a[2]]])"
   ]
  },
  {
   "cell_type": "code",
   "execution_count": 32,
   "metadata": {},
   "outputs": [
    {
     "name": "stdout",
     "output_type": "stream",
     "text": [
      "[[1.   0.   0.  ]\n",
      " [0.   0.92 0.  ]\n",
      " [0.   0.   0.83]]\n"
     ]
    },
    {
     "data": {
      "text/plain": [
       "array([[ 0.94191176,  0.05191176, -0.00808824],\n",
       "       [ 0.05029412,  0.91029412,  0.11029412],\n",
       "       [ 0.00779412,  0.03779412,  0.89779412]])"
      ]
     },
     "execution_count": 32,
     "metadata": {},
     "output_type": "execute_result"
    }
   ],
   "source": [
    "print(l)\n",
    "np.dot(np.dot(b,l),np.linalg.inv(b))"
   ]
  },
  {
   "cell_type": "code",
   "execution_count": 33,
   "metadata": {},
   "outputs": [
    {
     "data": {
      "text/plain": [
       "array([[0.36764708, 0.36764708, 0.36764708],\n",
       "       [0.44117649, 0.44117649, 0.44117649],\n",
       "       [0.19117648, 0.19117648, 0.19117648]])"
      ]
     },
     "execution_count": 33,
     "metadata": {},
     "output_type": "execute_result"
    }
   ],
   "source": [
    "np.dot(np.dot(b,l**100000000),np.linalg.inv(b))"
   ]
  },
  {
   "cell_type": "code",
   "execution_count": 34,
   "metadata": {},
   "outputs": [
    {
     "data": {
      "text/plain": [
       "array([[0.36764706, 0.36764706, 0.36764706],\n",
       "       [0.44117647, 0.44117647, 0.44117647],\n",
       "       [0.19117647, 0.19117647, 0.19117647]])"
      ]
     },
     "execution_count": 34,
     "metadata": {},
     "output_type": "execute_result"
    }
   ],
   "source": [
    "linf = np.array([[1,0,0],[0,0,0],[0,0,0]])\n",
    "np.dot(np.dot(b,linf),np.linalg.inv(b))"
   ]
  },
  {
   "cell_type": "code",
   "execution_count": 5,
   "metadata": {},
   "outputs": [
    {
     "name": "stdout",
     "output_type": "stream",
     "text": [
      "(array([-4.00000000e+00,  3.00000000e+00,  1.71642331e-16]), array([[ 0.40824829, -0.48507125, -0.0696733 ],\n",
      "       [-0.81649658, -0.72760688, -0.41803981],\n",
      "       [-0.40824829,  0.48507125,  0.90575292]]))\n"
     ]
    }
   ],
   "source": [
    "# question 10\n",
    "A = np.array([[1,2,1],[6,-1,0],[-1,-2,-1]])\n",
    "print(np.linalg.eig(A))"
   ]
  },
  {
   "cell_type": "code",
   "execution_count": 8,
   "metadata": {},
   "outputs": [
    {
     "name": "stdout",
     "output_type": "stream",
     "text": [
      "[[  1   1   2]\n",
      " [  6  -2   3]\n",
      " [-13  -1  -2]]\n",
      "[[-0.08333333 -0.         -0.08333333]\n",
      " [ 0.32142857 -0.28571429 -0.10714286]\n",
      " [ 0.38095238  0.14285714  0.0952381 ]]\n",
      "-83.99999999999999\n",
      "[[  7.   0.   7.]\n",
      " [-27.  24.   9.]\n",
      " [-32. -12.  -8.]]\n"
     ]
    }
   ],
   "source": [
    "P = np.array([[1,1,2],[6,-2,3],[-13,-1,-2]])\n",
    "print(P)\n",
    "print(np.linalg.inv(P))\n",
    "print(np.linalg.det(P))\n",
    "C = (np.linalg.det(P)*np.linalg.inv(P))\n",
    "print(C)"
   ]
  },
  {
   "cell_type": "code",
   "execution_count": 5,
   "metadata": {},
   "outputs": [
    {
     "name": "stdout",
     "output_type": "stream",
     "text": [
      "255.99999999999972\n"
     ]
    }
   ],
   "source": [
    "# question 1\n",
    "A = np.array([[3,-4,-1],[8,9,2],[0,7,6]])\n",
    "print(np.linalg.det(A))"
   ]
  },
  {
   "cell_type": "code",
   "execution_count": 6,
   "metadata": {},
   "outputs": [
    {
     "name": "stdout",
     "output_type": "stream",
     "text": [
      "-6.66133814775094e-16\n"
     ]
    }
   ],
   "source": [
    "A = np.array([[1,-1,0],[1,2,2],[3,0,2]])\n",
    "print(np.linalg.det(A))"
   ]
  },
  {
   "cell_type": "code",
   "execution_count": null,
   "metadata": {},
   "outputs": [],
   "source": []
  }
 ],
 "metadata": {
  "kernelspec": {
   "display_name": "Python 3",
   "language": "python",
   "name": "python3"
  },
  "language_info": {
   "codemirror_mode": {
    "name": "ipython",
    "version": 3
   },
   "file_extension": ".py",
   "mimetype": "text/x-python",
   "name": "python",
   "nbconvert_exporter": "python",
   "pygments_lexer": "ipython3",
   "version": "3.6.8"
  }
 },
 "nbformat": 4,
 "nbformat_minor": 2
}
